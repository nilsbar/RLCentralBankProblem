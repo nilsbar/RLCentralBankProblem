{
 "cells": [
  {
   "cell_type": "code",
   "execution_count": 1,
   "metadata": {},
   "outputs": [],
   "source": [
    "import pandas as pd\n",
    "import torch.nn as nn\n",
    "import torch\n",
    "import matplotlib.pyplot as plt"
   ]
  },
  {
   "cell_type": "markdown",
   "metadata": {},
   "source": [
    "Prepare the economical data"
   ]
  },
  {
   "cell_type": "code",
   "execution_count": 2,
   "metadata": {},
   "outputs": [],
   "source": [
    "raw_econ_df = pd.read_csv(\"data\\Annual_FY_June2024.csv\")"
   ]
  },
  {
   "cell_type": "code",
   "execution_count": 3,
   "metadata": {},
   "outputs": [],
   "source": [
    "# raw_econ_df.interpolate(method='quadratic')"
   ]
  },
  {
   "cell_type": "code",
   "execution_count": 3,
   "metadata": {},
   "outputs": [
    {
     "data": {
      "text/plain": [
       "0"
      ]
     },
     "execution_count": 3,
     "metadata": {},
     "output_type": "execute_result"
    }
   ],
   "source": [
    "econ_df = raw_econ_df.ffill()\n",
    "econ_df = raw_econ_df.bfill()\n",
    "econ_df.isna().sum().sum()"
   ]
  },
  {
   "cell_type": "code",
   "execution_count": 4,
   "metadata": {},
   "outputs": [],
   "source": [
    "# add the inflation rate\n",
    "econ_df['previous_cpiu'] = econ_df['cpiu'].shift(1)\n",
    "econ_df['inflation_rate'] = ((econ_df['cpiu'] - econ_df['previous_cpiu']) / econ_df['previous_cpiu']) * 100\n",
    "econ_df.drop(columns=['previous_cpiu'], inplace=True)\n",
    "econ_df = econ_df.bfill()"
   ]
  },
  {
   "cell_type": "code",
   "execution_count": 6,
   "metadata": {},
   "outputs": [
    {
     "data": {
      "text/plain": [
       "79"
      ]
     },
     "execution_count": 6,
     "metadata": {},
     "output_type": "execute_result"
    }
   ],
   "source": [
    "len(econ_df.columns)"
   ]
  },
  {
   "cell_type": "markdown",
   "metadata": {},
   "source": [
    "Prepare the interest rates"
   ]
  },
  {
   "cell_type": "code",
   "execution_count": 7,
   "metadata": {},
   "outputs": [
    {
     "data": {
      "text/plain": [
       "0"
      ]
     },
     "execution_count": 7,
     "metadata": {},
     "output_type": "execute_result"
    }
   ],
   "source": [
    "raw_interest_rates_df = pd.read_csv('data\\FEDFUNDS.csv')\n",
    "raw_interest_rates_df.isna().sum().sum()"
   ]
  },
  {
   "cell_type": "code",
   "execution_count": 8,
   "metadata": {},
   "outputs": [],
   "source": [
    "raw_interest_rates_df['DATE'] = pd.to_datetime(raw_interest_rates_df['DATE'])\n",
    "raw_interest_rates_df['DATE'] = raw_interest_rates_df['DATE'].dt.year"
   ]
  },
  {
   "cell_type": "markdown",
   "metadata": {},
   "source": [
    "Prepare the data for the model"
   ]
  },
  {
   "cell_type": "code",
   "execution_count": 9,
   "metadata": {},
   "outputs": [],
   "source": [
    "interest_df = raw_interest_rates_df[(raw_interest_rates_df['DATE'] >= 1955) & (raw_interest_rates_df['DATE'] <= 2023)].copy()\n",
    "econ_df = econ_df[(econ_df['date'] >= 1955) & (econ_df['date'] <= 2023)]"
   ]
  },
  {
   "cell_type": "code",
   "execution_count": 10,
   "metadata": {},
   "outputs": [],
   "source": [
    "interest_df.rename(columns={'DATE' : 'date'}, inplace=True)"
   ]
  },
  {
   "cell_type": "code",
   "execution_count": 11,
   "metadata": {},
   "outputs": [],
   "source": [
    "dataset = pd.merge(econ_df, interest_df, on='date')"
   ]
  },
  {
   "cell_type": "code",
   "execution_count": 21,
   "metadata": {},
   "outputs": [
    {
     "data": {
      "text/html": [
       "<div>\n",
       "<style scoped>\n",
       "    .dataframe tbody tr th:only-of-type {\n",
       "        vertical-align: middle;\n",
       "    }\n",
       "\n",
       "    .dataframe tbody tr th {\n",
       "        vertical-align: top;\n",
       "    }\n",
       "\n",
       "    .dataframe thead th {\n",
       "        text-align: right;\n",
       "    }\n",
       "</style>\n",
       "<table border=\"1\" class=\"dataframe\">\n",
       "  <thead>\n",
       "    <tr style=\"text-align: right;\">\n",
       "      <th></th>\n",
       "      <th>gdp</th>\n",
       "      <th>gnp</th>\n",
       "      <th>potential_gdp</th>\n",
       "      <th>real_gdp</th>\n",
       "      <th>real_gnp</th>\n",
       "      <th>real_potential_gdp</th>\n",
       "      <th>real_gdp_nfb</th>\n",
       "      <th>potential_lf</th>\n",
       "      <th>potential_lf_prod</th>\n",
       "      <th>potential_lfpr</th>\n",
       "      <th>...</th>\n",
       "      <th>real_res_fixed_invest</th>\n",
       "      <th>real_change_pri_invest</th>\n",
       "      <th>real_government_c_gi</th>\n",
       "      <th>real_federal_government_c_gi</th>\n",
       "      <th>real_sl_government_c_gi</th>\n",
       "      <th>real_net_exports</th>\n",
       "      <th>real_exports</th>\n",
       "      <th>real_imports</th>\n",
       "      <th>inflation_rate</th>\n",
       "      <th>FEDFUNDS</th>\n",
       "    </tr>\n",
       "  </thead>\n",
       "  <tbody>\n",
       "    <tr>\n",
       "      <th>0</th>\n",
       "      <td>406.325</td>\n",
       "      <td>408.625</td>\n",
       "      <td>402.772878</td>\n",
       "      <td>2977.000</td>\n",
       "      <td>3000.800</td>\n",
       "      <td>2951.203242</td>\n",
       "      <td>1897.700</td>\n",
       "      <td>64.489686</td>\n",
       "      <td>45.761857</td>\n",
       "      <td>59.183261</td>\n",
       "      <td>...</td>\n",
       "      <td>251.78550</td>\n",
       "      <td>5.45575</td>\n",
       "      <td>1048.52950</td>\n",
       "      <td>559.02600</td>\n",
       "      <td>422.05650</td>\n",
       "      <td>-12.225</td>\n",
       "      <td>72.600</td>\n",
       "      <td>84.825</td>\n",
       "      <td>-0.418229</td>\n",
       "      <td>1.7850000000000000</td>\n",
       "    </tr>\n",
       "    <tr>\n",
       "      <th>1</th>\n",
       "      <td>438.250</td>\n",
       "      <td>440.925</td>\n",
       "      <td>424.485234</td>\n",
       "      <td>3125.775</td>\n",
       "      <td>3151.900</td>\n",
       "      <td>3027.470585</td>\n",
       "      <td>2004.150</td>\n",
       "      <td>65.311589</td>\n",
       "      <td>46.353661</td>\n",
       "      <td>59.205526</td>\n",
       "      <td>...</td>\n",
       "      <td>249.81775</td>\n",
       "      <td>20.52400</td>\n",
       "      <td>1035.70850</td>\n",
       "      <td>536.78800</td>\n",
       "      <td>440.30400</td>\n",
       "      <td>-15.275</td>\n",
       "      <td>81.750</td>\n",
       "      <td>97.025</td>\n",
       "      <td>0.357765</td>\n",
       "      <td>2.7283333333333333</td>\n",
       "    </tr>\n",
       "    <tr>\n",
       "      <th>2</th>\n",
       "      <td>463.375</td>\n",
       "      <td>466.350</td>\n",
       "      <td>452.143351</td>\n",
       "      <td>3188.125</td>\n",
       "      <td>3216.050</td>\n",
       "      <td>3110.811185</td>\n",
       "      <td>2038.525</td>\n",
       "      <td>66.068250</td>\n",
       "      <td>47.084013</td>\n",
       "      <td>59.216864</td>\n",
       "      <td>...</td>\n",
       "      <td>232.69175</td>\n",
       "      <td>9.02700</td>\n",
       "      <td>1066.52550</td>\n",
       "      <td>548.66025</td>\n",
       "      <td>459.55275</td>\n",
       "      <td>-4.775</td>\n",
       "      <td>96.175</td>\n",
       "      <td>100.950</td>\n",
       "      <td>2.907716</td>\n",
       "      <td>3.1050000000000000</td>\n",
       "    </tr>\n",
       "    <tr>\n",
       "      <th>3</th>\n",
       "      <td>473.475</td>\n",
       "      <td>476.250</td>\n",
       "      <td>479.554837</td>\n",
       "      <td>3175.800</td>\n",
       "      <td>3201.725</td>\n",
       "      <td>3216.111419</td>\n",
       "      <td>2007.325</td>\n",
       "      <td>66.937261</td>\n",
       "      <td>48.045576</td>\n",
       "      <td>59.216222</td>\n",
       "      <td>...</td>\n",
       "      <td>218.69600</td>\n",
       "      <td>-6.29325</td>\n",
       "      <td>1104.97850</td>\n",
       "      <td>557.09850</td>\n",
       "      <td>493.28275</td>\n",
       "      <td>-15.600</td>\n",
       "      <td>88.700</td>\n",
       "      <td>104.300</td>\n",
       "      <td>3.319577</td>\n",
       "      <td>1.5725000000000000</td>\n",
       "    </tr>\n",
       "    <tr>\n",
       "      <th>4</th>\n",
       "      <td>504.600</td>\n",
       "      <td>507.175</td>\n",
       "      <td>506.594616</td>\n",
       "      <td>3320.675</td>\n",
       "      <td>3345.200</td>\n",
       "      <td>3333.941717</td>\n",
       "      <td>2115.175</td>\n",
       "      <td>67.809751</td>\n",
       "      <td>49.164810</td>\n",
       "      <td>59.204441</td>\n",
       "      <td>...</td>\n",
       "      <td>265.10025</td>\n",
       "      <td>17.11725</td>\n",
       "      <td>1146.38175</td>\n",
       "      <td>567.43900</td>\n",
       "      <td>527.86475</td>\n",
       "      <td>-27.425</td>\n",
       "      <td>86.550</td>\n",
       "      <td>113.975</td>\n",
       "      <td>1.367387</td>\n",
       "      <td>3.3050000000000000</td>\n",
       "    </tr>\n",
       "    <tr>\n",
       "      <th>...</th>\n",
       "      <td>...</td>\n",
       "      <td>...</td>\n",
       "      <td>...</td>\n",
       "      <td>...</td>\n",
       "      <td>...</td>\n",
       "      <td>...</td>\n",
       "      <td>...</td>\n",
       "      <td>...</td>\n",
       "      <td>...</td>\n",
       "      <td>...</td>\n",
       "      <td>...</td>\n",
       "      <td>...</td>\n",
       "      <td>...</td>\n",
       "      <td>...</td>\n",
       "      <td>...</td>\n",
       "      <td>...</td>\n",
       "      <td>...</td>\n",
       "      <td>...</td>\n",
       "      <td>...</td>\n",
       "      <td>...</td>\n",
       "      <td>...</td>\n",
       "    </tr>\n",
       "    <tr>\n",
       "      <th>64</th>\n",
       "      <td>21275.275</td>\n",
       "      <td>21559.900</td>\n",
       "      <td>21234.991845</td>\n",
       "      <td>20530.550</td>\n",
       "      <td>20818.975</td>\n",
       "      <td>20491.986140</td>\n",
       "      <td>15618.575</td>\n",
       "      <td>162.513493</td>\n",
       "      <td>126.093290</td>\n",
       "      <td>62.910760</td>\n",
       "      <td>...</td>\n",
       "      <td>757.14975</td>\n",
       "      <td>86.55125</td>\n",
       "      <td>3560.41725</td>\n",
       "      <td>1347.36400</td>\n",
       "      <td>2213.21750</td>\n",
       "      <td>-637.325</td>\n",
       "      <td>2463.775</td>\n",
       "      <td>3101.100</td>\n",
       "      <td>1.852791</td>\n",
       "      <td>2.1583333333333333</td>\n",
       "    </tr>\n",
       "    <tr>\n",
       "      <th>65</th>\n",
       "      <td>21292.400</td>\n",
       "      <td>21525.400</td>\n",
       "      <td>21944.480796</td>\n",
       "      <td>20290.825</td>\n",
       "      <td>20526.775</td>\n",
       "      <td>20912.690544</td>\n",
       "      <td>15368.525</td>\n",
       "      <td>163.355701</td>\n",
       "      <td>128.018572</td>\n",
       "      <td>62.875594</td>\n",
       "      <td>...</td>\n",
       "      <td>785.53250</td>\n",
       "      <td>-44.07775</td>\n",
       "      <td>3705.65100</td>\n",
       "      <td>1427.22725</td>\n",
       "      <td>2279.05225</td>\n",
       "      <td>-602.400</td>\n",
       "      <td>2204.975</td>\n",
       "      <td>2807.375</td>\n",
       "      <td>1.453625</td>\n",
       "      <td>0.37583333333333333333</td>\n",
       "    </tr>\n",
       "    <tr>\n",
       "      <th>66</th>\n",
       "      <td>22936.525</td>\n",
       "      <td>23124.825</td>\n",
       "      <td>23132.004842</td>\n",
       "      <td>21126.800</td>\n",
       "      <td>21316.000</td>\n",
       "      <td>21309.828699</td>\n",
       "      <td>16175.250</td>\n",
       "      <td>164.183479</td>\n",
       "      <td>129.792208</td>\n",
       "      <td>62.784007</td>\n",
       "      <td>...</td>\n",
       "      <td>902.98825</td>\n",
       "      <td>-17.80975</td>\n",
       "      <td>3706.15325</td>\n",
       "      <td>1460.26450</td>\n",
       "      <td>2247.70850</td>\n",
       "      <td>-887.175</td>\n",
       "      <td>2243.400</td>\n",
       "      <td>3130.575</td>\n",
       "      <td>3.294798</td>\n",
       "      <td>0.08000000000000000000</td>\n",
       "    </tr>\n",
       "    <tr>\n",
       "      <th>67</th>\n",
       "      <td>25305.650</td>\n",
       "      <td>25484.175</td>\n",
       "      <td>25237.075336</td>\n",
       "      <td>21786.450</td>\n",
       "      <td>21956.450</td>\n",
       "      <td>21724.710450</td>\n",
       "      <td>16753.250</td>\n",
       "      <td>165.068449</td>\n",
       "      <td>131.609327</td>\n",
       "      <td>62.618212</td>\n",
       "      <td>...</td>\n",
       "      <td>861.64800</td>\n",
       "      <td>141.86950</td>\n",
       "      <td>3663.18950</td>\n",
       "      <td>1421.34800</td>\n",
       "      <td>2242.12850</td>\n",
       "      <td>-1058.525</td>\n",
       "      <td>2414.100</td>\n",
       "      <td>3472.625</td>\n",
       "      <td>7.924068</td>\n",
       "      <td>1.6833333333333333</td>\n",
       "    </tr>\n",
       "    <tr>\n",
       "      <th>68</th>\n",
       "      <td>26973.775</td>\n",
       "      <td>27144.200</td>\n",
       "      <td>26933.454625</td>\n",
       "      <td>22204.600</td>\n",
       "      <td>22362.000</td>\n",
       "      <td>22171.849767</td>\n",
       "      <td>17063.400</td>\n",
       "      <td>166.431231</td>\n",
       "      <td>133.218250</td>\n",
       "      <td>62.503850</td>\n",
       "      <td>...</td>\n",
       "      <td>734.55600</td>\n",
       "      <td>67.93975</td>\n",
       "      <td>3776.67725</td>\n",
       "      <td>1466.59950</td>\n",
       "      <td>2310.41225</td>\n",
       "      <td>-939.900</td>\n",
       "      <td>2492.875</td>\n",
       "      <td>3432.750</td>\n",
       "      <td>5.077104</td>\n",
       "      <td>5.0241666666666667</td>\n",
       "    </tr>\n",
       "  </tbody>\n",
       "</table>\n",
       "<p>69 rows × 79 columns</p>\n",
       "</div>"
      ],
      "text/plain": [
       "          gdp        gnp  potential_gdp   real_gdp   real_gnp  \\\n",
       "0     406.325    408.625     402.772878   2977.000   3000.800   \n",
       "1     438.250    440.925     424.485234   3125.775   3151.900   \n",
       "2     463.375    466.350     452.143351   3188.125   3216.050   \n",
       "3     473.475    476.250     479.554837   3175.800   3201.725   \n",
       "4     504.600    507.175     506.594616   3320.675   3345.200   \n",
       "..        ...        ...            ...        ...        ...   \n",
       "64  21275.275  21559.900   21234.991845  20530.550  20818.975   \n",
       "65  21292.400  21525.400   21944.480796  20290.825  20526.775   \n",
       "66  22936.525  23124.825   23132.004842  21126.800  21316.000   \n",
       "67  25305.650  25484.175   25237.075336  21786.450  21956.450   \n",
       "68  26973.775  27144.200   26933.454625  22204.600  22362.000   \n",
       "\n",
       "    real_potential_gdp  real_gdp_nfb  potential_lf  potential_lf_prod  \\\n",
       "0          2951.203242      1897.700     64.489686          45.761857   \n",
       "1          3027.470585      2004.150     65.311589          46.353661   \n",
       "2          3110.811185      2038.525     66.068250          47.084013   \n",
       "3          3216.111419      2007.325     66.937261          48.045576   \n",
       "4          3333.941717      2115.175     67.809751          49.164810   \n",
       "..                 ...           ...           ...                ...   \n",
       "64        20491.986140     15618.575    162.513493         126.093290   \n",
       "65        20912.690544     15368.525    163.355701         128.018572   \n",
       "66        21309.828699     16175.250    164.183479         129.792208   \n",
       "67        21724.710450     16753.250    165.068449         131.609327   \n",
       "68        22171.849767     17063.400    166.431231         133.218250   \n",
       "\n",
       "    potential_lfpr  ...  real_res_fixed_invest  real_change_pri_invest  \\\n",
       "0        59.183261  ...              251.78550                 5.45575   \n",
       "1        59.205526  ...              249.81775                20.52400   \n",
       "2        59.216864  ...              232.69175                 9.02700   \n",
       "3        59.216222  ...              218.69600                -6.29325   \n",
       "4        59.204441  ...              265.10025                17.11725   \n",
       "..             ...  ...                    ...                     ...   \n",
       "64       62.910760  ...              757.14975                86.55125   \n",
       "65       62.875594  ...              785.53250               -44.07775   \n",
       "66       62.784007  ...              902.98825               -17.80975   \n",
       "67       62.618212  ...              861.64800               141.86950   \n",
       "68       62.503850  ...              734.55600                67.93975   \n",
       "\n",
       "    real_government_c_gi  real_federal_government_c_gi  \\\n",
       "0             1048.52950                     559.02600   \n",
       "1             1035.70850                     536.78800   \n",
       "2             1066.52550                     548.66025   \n",
       "3             1104.97850                     557.09850   \n",
       "4             1146.38175                     567.43900   \n",
       "..                   ...                           ...   \n",
       "64            3560.41725                    1347.36400   \n",
       "65            3705.65100                    1427.22725   \n",
       "66            3706.15325                    1460.26450   \n",
       "67            3663.18950                    1421.34800   \n",
       "68            3776.67725                    1466.59950   \n",
       "\n",
       "    real_sl_government_c_gi  real_net_exports  real_exports  real_imports  \\\n",
       "0                 422.05650           -12.225        72.600        84.825   \n",
       "1                 440.30400           -15.275        81.750        97.025   \n",
       "2                 459.55275            -4.775        96.175       100.950   \n",
       "3                 493.28275           -15.600        88.700       104.300   \n",
       "4                 527.86475           -27.425        86.550       113.975   \n",
       "..                      ...               ...           ...           ...   \n",
       "64               2213.21750          -637.325      2463.775      3101.100   \n",
       "65               2279.05225          -602.400      2204.975      2807.375   \n",
       "66               2247.70850          -887.175      2243.400      3130.575   \n",
       "67               2242.12850         -1058.525      2414.100      3472.625   \n",
       "68               2310.41225          -939.900      2492.875      3432.750   \n",
       "\n",
       "    inflation_rate                FEDFUNDS  \n",
       "0        -0.418229      1.7850000000000000  \n",
       "1         0.357765      2.7283333333333333  \n",
       "2         2.907716      3.1050000000000000  \n",
       "3         3.319577      1.5725000000000000  \n",
       "4         1.367387      3.3050000000000000  \n",
       "..             ...                     ...  \n",
       "64        1.852791      2.1583333333333333  \n",
       "65        1.453625  0.37583333333333333333  \n",
       "66        3.294798  0.08000000000000000000  \n",
       "67        7.924068      1.6833333333333333  \n",
       "68        5.077104      5.0241666666666667  \n",
       "\n",
       "[69 rows x 79 columns]"
      ]
     },
     "execution_count": 21,
     "metadata": {},
     "output_type": "execute_result"
    }
   ],
   "source": [
    "dataset.drop(columns=['date'])"
   ]
  },
  {
   "cell_type": "markdown",
   "metadata": {},
   "source": [
    "Prepare the data for the LSTM"
   ]
  },
  {
   "cell_type": "code",
   "execution_count": 14,
   "metadata": {},
   "outputs": [],
   "source": [
    "# create a data set with 10 years economy and chosen interest rate  \n",
    "train_size = int(len(econ_df) * 0.67)\n",
    "test_size = len(econ_df) - train_size\n",
    "# train_x, test_x = dataset[:train_size], dataset[train_size:] \n",
    "# train_y, test_y = econ_df[:train_size], econ_df[train_size:]"
   ]
  },
  {
   "cell_type": "code",
   "execution_count": 22,
   "metadata": {},
   "outputs": [],
   "source": [
    "# time series model \n",
    "class EcoModel(nn.Module):\n",
    "    def __init__(self):\n",
    "        super().__init__()\n",
    "        self.lstm = nn.LSTM(input_size=80, hidden_size=50, num_layers=1, batch_first=False)\n",
    "        # reduce from 80 to 79 and adjust the target data of the train data with dropped interest rate\n",
    "        self.linear = nn.Linear(50, 80)\n",
    "    def forward(self, x):\n",
    "        x, _ = self.lstm(x)\n",
    "        x = self.linear(x)\n",
    "        return x"
   ]
  },
  {
   "cell_type": "code",
   "execution_count": 16,
   "metadata": {},
   "outputs": [],
   "source": [
    "def create_dataset(dataset, lookback):\n",
    "    \"\"\"Transform a time series into a prediction dataset\n",
    "    \n",
    "    Args:\n",
    "        dataset: A numpy array of time series, first dimension is the time steps\n",
    "        lookback: Size of window for prediction\n",
    "    \"\"\"\n",
    "    X, y = [], []\n",
    "    for i in range(len(dataset)-lookback):\n",
    "        feature = dataset[i:i+lookback]\n",
    "        target = dataset[i+1:i+lookback+1]\n",
    "        X.append(feature.values.astype(float))\n",
    "        y.append(target.values.astype(float))\n",
    "    return torch.tensor(X, dtype=torch.float32), torch.tensor(y, dtype=torch.float32)"
   ]
  },
  {
   "cell_type": "code",
   "execution_count": 17,
   "metadata": {},
   "outputs": [],
   "source": [
    "train, test = dataset[:train_size], dataset[train_size:]  "
   ]
  },
  {
   "cell_type": "code",
   "execution_count": 18,
   "metadata": {},
   "outputs": [
    {
     "name": "stderr",
     "output_type": "stream",
     "text": [
      "C:\\Users\\nils-\\AppData\\Local\\Temp\\ipykernel_31512\\815739659.py:14: UserWarning: Creating a tensor from a list of numpy.ndarrays is extremely slow. Please consider converting the list to a single numpy.ndarray with numpy.array() before converting to a tensor. (Triggered internally at C:\\actions-runner\\_work\\pytorch\\pytorch\\builder\\windows\\pytorch\\torch\\csrc\\utils\\tensor_new.cpp:281.)\n",
      "  return torch.tensor(X, dtype=torch.float32), torch.tensor(y, dtype=torch.float32)\n"
     ]
    }
   ],
   "source": [
    "lookback = 10\n",
    "X_train, y_train = create_dataset(train, lookback=lookback)\n",
    "X_test, y_test = create_dataset(test, lookback=lookback)"
   ]
  },
  {
   "cell_type": "code",
   "execution_count": 19,
   "metadata": {},
   "outputs": [
    {
     "data": {
      "text/plain": [
       "torch.Size([36, 10, 80])"
      ]
     },
     "execution_count": 19,
     "metadata": {},
     "output_type": "execute_result"
    }
   ],
   "source": [
    "X_train.shape"
   ]
  },
  {
   "cell_type": "code",
   "execution_count": 29,
   "metadata": {},
   "outputs": [
    {
     "name": "stdout",
     "output_type": "stream",
     "text": [
      "Epoch 0: train RMSE 1502.3138, test RMSE 5781.0342\n"
     ]
    }
   ],
   "source": [
    "import numpy as np\n",
    "import torch.optim as optim\n",
    "import torch.utils.data as data\n",
    "\n",
    "#model = EcoModel()\n",
    "#optimizer = optim.Adam(model.parameters())\n",
    "#loss_fn = nn.MSELoss()\n",
    "#loader = data.DataLoader(data.TensorDataset(X_train, y_train), shuffle=True, batch_size=8)\n",
    "\n",
    "n_epochs = 80000\n",
    "for epoch in range(n_epochs):\n",
    "    model.train()\n",
    "    for X_batch, y_batch in loader:\n",
    "        y_pred = model(X_batch)\n",
    "        loss = loss_fn(y_pred, y_batch)\n",
    "        optimizer.zero_grad()\n",
    "        loss.backward()\n",
    "        optimizer.step()\n",
    "    # Validation\n",
    "    if epoch % 10000 != 0:\n",
    "        continue\n",
    "    model.eval()\n",
    "    with torch.no_grad():\n",
    "        y_pred = model(X_train)\n",
    "        train_rmse = np.sqrt(loss_fn(y_pred, y_train))\n",
    "        y_pred = model(X_test)\n",
    "        test_rmse = np.sqrt(loss_fn(y_pred, y_test))\n",
    "    print(\"Epoch %d: train RMSE %.4f, test RMSE %.4f\" % (epoch, train_rmse, test_rmse))"
   ]
  },
  {
   "cell_type": "code",
   "execution_count": 26,
   "metadata": {},
   "outputs": [
    {
     "data": {
      "image/png": "[encoded data removed]",
      "text/plain": [
       "<Figure size 640x480 with 1 Axes>"
      ]
     },
     "metadata": {},
     "output_type": "display_data"
    }
   ],
   "source": [
    "# evaluation\n",
    "with torch.no_grad():\n",
    "    # shift train predictions for plotting\n",
    "    train_plot = np.ones_like(dataset['gdp']) * np.nan\n",
    "    y_pred = model(X_train)\n",
    "    y_pred = y_pred[:, -1, 0]\n",
    "    train_plot[lookback:train_size] = model(X_train)[:, -1, 0]\n",
    "    # shift test predictions for plotting\n",
    "    test_plot = np.ones_like(dataset['gdp']) * np.nan\n",
    "    test_plot[train_size+lookback:len(dataset)] = model(X_test)[:, -1, 0]\n",
    "# plot\n",
    "plt.plot(dataset['gdp'], c='b')\n",
    "plt.plot(train_plot, c='r')\n",
    "plt.plot(test_plot, c='g')\n",
    "plt.show()"
   ]
  }
 ],
 "metadata": {
  "kernelspec": {
   "display_name": "venv",
   "language": "python",
   "name": "python3"
  },
  "language_info": {
   "codemirror_mode": {
    "name": "ipython",
    "version": 3
   },
   "file_extension": ".py",
   "mimetype": "text/x-python",
   "name": "python",
   "nbconvert_exporter": "python",
   "pygments_lexer": "ipython3",
   "version": "3.11.1"
  }
 },
 "nbformat": 4,
 "nbformat_minor": 2
}
